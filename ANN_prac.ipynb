{
 "cells": [
  {
   "cell_type": "code",
   "execution_count": 33,
   "metadata": {},
   "outputs": [],
   "source": [
    "import numpy as np\n",
    "X = np.array([[1, 1, 0, 1], [1, 0, 1, 0], [1, 0, 0, 1]])\n",
    "Y = np.array([[1], [1], [0]])\n"
   ]
  },
  {
   "cell_type": "code",
   "execution_count": 34,
   "metadata": {
    "collapsed": true
   },
   "outputs": [],
   "source": [
    "def sig(x):\n",
    "    return 1 / (1 + np.exp(-x))\n",
    "\n",
    "def der_sig(x):\n",
    "    return 1 * (1 - x)\n"
   ]
  },
  {
   "cell_type": "code",
   "execution_count": 35,
   "metadata": {},
   "outputs": [],
   "source": [
    "no_of_hidden_neurons = 3\n",
    "no_of_inputs_nurons = 4\n",
    "no_of_ouput_neurons = 1\n",
    "epochs = 5000\n",
    "lr = 0.1\n",
    "\n",
    "wh = np.random.uniform(size = (no_of_inputs_nurons, no_of_hidden_neurons))\n",
    "bh = np.random.uniform(size = (1, no_of_hidden_neurons))\n",
    "\n",
    "wo = np.random.uniform(size = (no_of_hidden_neurons, 1))\n",
    "bo = np.random.uniform(size = (1, no_of_ouput_neurons))\n"
   ]
  },
  {
   "cell_type": "code",
   "execution_count": 36,
   "metadata": {},
   "outputs": [],
   "source": [
    "for i in range(epochs):\n",
    "    #Forward propagation\n",
    "    hidden_layer_input = X.dot(wh)\n",
    "    hidden_layer_input_final = hidden_layer_input + bh\n",
    "    hidden_layer_output = sig(hidden_layer_input_final)\n",
    "    \n",
    "    output_layer_input = hidden_layer_output.dot(wo)\n",
    "    output_layer_input_final = output_layer_input + bo\n",
    "    output = sig(output_layer_input)\n",
    "    \n",
    "    #Back propagation\n",
    "    Eo = Y - output\n",
    "    slope_hidden_layer = der_sig(hidden_layer_output)\n",
    "    slope_output_layer = der_sig(output)\n",
    "    d_output = Eo * slope_output_layer\n",
    "    \n",
    "    Eh = d_output.dot(wo.T)\n",
    "    d_hidden = Eh * slope_hidden_layer\n",
    "    \n",
    "    wo += hidden_layer_output.T.dot(d_output) * lr\n",
    "    wh += X.T.dot(d_hidden) * lr\n",
    "    \n",
    "    bo += np.sum(d_output, axis = 0, keepdims = True)\n",
    "    bh += np.sum(d_hidden, axis = 0, keepdims = True) \n",
    "    "
   ]
  },
  {
   "cell_type": "code",
   "execution_count": 37,
   "metadata": {},
   "outputs": [
    {
     "name": "stdout",
     "output_type": "stream",
     "text": [
      "[[0.59083541]\n",
      " [0.71298477]\n",
      " [0.5       ]]\n"
     ]
    }
   ],
   "source": [
    "print(output)"
   ]
  },
  {
   "cell_type": "code",
   "execution_count": null,
   "metadata": {
    "collapsed": true
   },
   "outputs": [],
   "source": []
  },
  {
   "cell_type": "code",
   "execution_count": null,
   "metadata": {
    "collapsed": true
   },
   "outputs": [],
   "source": []
  }
 ],
 "metadata": {
  "kernelspec": {
   "display_name": "Python 3",
   "language": "python",
   "name": "python3"
  },
  "language_info": {
   "codemirror_mode": {
    "name": "ipython",
    "version": 3
   },
   "file_extension": ".py",
   "mimetype": "text/x-python",
   "name": "python",
   "nbconvert_exporter": "python",
   "pygments_lexer": "ipython3",
   "version": "3.6.3"
  }
 },
 "nbformat": 4,
 "nbformat_minor": 2
}
