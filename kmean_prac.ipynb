{
 "cells": [
  {
   "cell_type": "code",
   "execution_count": 61,
   "metadata": {},
   "outputs": [],
   "source": [
    "import numpy as np\n",
    "import pandas as pd\n",
    "import matplotlib.pyplot as plt"
   ]
  },
  {
   "cell_type": "code",
   "execution_count": 62,
   "metadata": {},
   "outputs": [],
   "source": [
    "df = pd.DataFrame({'x' : [12, 20, 28, 18, 29, 33, 24, 45, 45, 52, 51, 52, 55, 53, 55, 61, 64, 69, 72],\n",
    "                   'y' : [39, 36, 30, 52, 54, 46, 55, 59, 63, 70, 66, 63, 58, 23, 14, 8, 19, 7, 24]\n",
    "                  })"
   ]
  },
  {
   "cell_type": "code",
   "execution_count": 63,
   "metadata": {},
   "outputs": [],
   "source": [
    "np.random.seed(200)\n",
    "k = 3\n"
   ]
  },
  {
   "cell_type": "code",
   "execution_count": 64,
   "metadata": {
    "scrolled": true
   },
   "outputs": [
    {
     "data": {
      "image/png": "[encoded data removed]",
      "text/plain": [
       "<matplotlib.figure.Figure at 0x7f21cced6630>"
      ]
     },
     "metadata": {
      "needs_background": "light"
     },
     "output_type": "display_data"
    }
   ],
   "source": [
    "centroid = {}\n",
    "for i in range(k):\n",
    "    centroid[i + 1] = [np.random.randint(0, 80), np.random.randint(0, 80)]\n",
    "centroid\n",
    "plt.scatter(df['x'], df['y'], color = \"black\")\n",
    "cmap = {1 : 'r', 2 : 'b', 3 : 'g'}\n",
    "for i in range(k):\n",
    "    plt.scatter(centroid[i + 1][0], centroid[i + 1][1], color = cmap[i + 1])"
   ]
  },
  {
   "cell_type": "code",
   "execution_count": 65,
   "metadata": {},
   "outputs": [
    {
     "data": {
      "text/html": [
       "<div>\n",
       "<style>\n",
       "    .dataframe thead tr:only-child th {\n",
       "        text-align: right;\n",
       "    }\n",
       "\n",
       "    .dataframe thead th {\n",
       "        text-align: left;\n",
       "    }\n",
       "\n",
       "    .dataframe tbody tr th {\n",
       "        vertical-align: top;\n",
       "    }\n",
       "</style>\n",
       "<table border=\"1\" class=\"dataframe\">\n",
       "  <thead>\n",
       "    <tr style=\"text-align: right;\">\n",
       "      <th></th>\n",
       "      <th>x</th>\n",
       "      <th>y</th>\n",
       "      <th>distance from 1</th>\n",
       "      <th>distance from 2</th>\n",
       "      <th>distance from 3</th>\n",
       "      <th>closest</th>\n",
       "      <th>color</th>\n",
       "    </tr>\n",
       "  </thead>\n",
       "  <tbody>\n",
       "    <tr>\n",
       "      <th>0</th>\n",
       "      <td>12</td>\n",
       "      <td>39</td>\n",
       "      <td>26.925824</td>\n",
       "      <td>56.080300</td>\n",
       "      <td>56.727418</td>\n",
       "      <td>1.0</td>\n",
       "      <td>r</td>\n",
       "    </tr>\n",
       "    <tr>\n",
       "      <th>1</th>\n",
       "      <td>20</td>\n",
       "      <td>36</td>\n",
       "      <td>20.880613</td>\n",
       "      <td>48.373546</td>\n",
       "      <td>53.150729</td>\n",
       "      <td>1.0</td>\n",
       "      <td>r</td>\n",
       "    </tr>\n",
       "    <tr>\n",
       "      <th>2</th>\n",
       "      <td>28</td>\n",
       "      <td>30</td>\n",
       "      <td>14.142136</td>\n",
       "      <td>41.761226</td>\n",
       "      <td>53.338541</td>\n",
       "      <td>1.0</td>\n",
       "      <td>r</td>\n",
       "    </tr>\n",
       "    <tr>\n",
       "      <th>3</th>\n",
       "      <td>18</td>\n",
       "      <td>52</td>\n",
       "      <td>36.878178</td>\n",
       "      <td>50.990195</td>\n",
       "      <td>44.102154</td>\n",
       "      <td>1.0</td>\n",
       "      <td>r</td>\n",
       "    </tr>\n",
       "    <tr>\n",
       "      <th>4</th>\n",
       "      <td>29</td>\n",
       "      <td>54</td>\n",
       "      <td>38.118237</td>\n",
       "      <td>40.804412</td>\n",
       "      <td>34.058773</td>\n",
       "      <td>3.0</td>\n",
       "      <td>g</td>\n",
       "    </tr>\n",
       "    <tr>\n",
       "      <th>5</th>\n",
       "      <td>33</td>\n",
       "      <td>46</td>\n",
       "      <td>30.805844</td>\n",
       "      <td>35.227830</td>\n",
       "      <td>37.202150</td>\n",
       "      <td>1.0</td>\n",
       "      <td>r</td>\n",
       "    </tr>\n",
       "    <tr>\n",
       "      <th>6</th>\n",
       "      <td>24</td>\n",
       "      <td>55</td>\n",
       "      <td>39.051248</td>\n",
       "      <td>45.880279</td>\n",
       "      <td>37.443290</td>\n",
       "      <td>3.0</td>\n",
       "      <td>g</td>\n",
       "    </tr>\n",
       "    <tr>\n",
       "      <th>7</th>\n",
       "      <td>45</td>\n",
       "      <td>59</td>\n",
       "      <td>47.010637</td>\n",
       "      <td>28.600699</td>\n",
       "      <td>19.723083</td>\n",
       "      <td>3.0</td>\n",
       "      <td>g</td>\n",
       "    </tr>\n",
       "    <tr>\n",
       "      <th>8</th>\n",
       "      <td>45</td>\n",
       "      <td>63</td>\n",
       "      <td>50.695167</td>\n",
       "      <td>31.144823</td>\n",
       "      <td>16.401219</td>\n",
       "      <td>3.0</td>\n",
       "      <td>g</td>\n",
       "    </tr>\n",
       "    <tr>\n",
       "      <th>9</th>\n",
       "      <td>52</td>\n",
       "      <td>70</td>\n",
       "      <td>59.933296</td>\n",
       "      <td>32.249031</td>\n",
       "      <td>6.708204</td>\n",
       "      <td>3.0</td>\n",
       "      <td>g</td>\n",
       "    </tr>\n",
       "    <tr>\n",
       "      <th>10</th>\n",
       "      <td>51</td>\n",
       "      <td>66</td>\n",
       "      <td>55.901699</td>\n",
       "      <td>29.410882</td>\n",
       "      <td>10.770330</td>\n",
       "      <td>3.0</td>\n",
       "      <td>g</td>\n",
       "    </tr>\n",
       "    <tr>\n",
       "      <th>11</th>\n",
       "      <td>52</td>\n",
       "      <td>63</td>\n",
       "      <td>53.712196</td>\n",
       "      <td>26.400758</td>\n",
       "      <td>13.341664</td>\n",
       "      <td>3.0</td>\n",
       "      <td>g</td>\n",
       "    </tr>\n",
       "    <tr>\n",
       "      <th>12</th>\n",
       "      <td>55</td>\n",
       "      <td>58</td>\n",
       "      <td>51.039201</td>\n",
       "      <td>20.615528</td>\n",
       "      <td>18.000000</td>\n",
       "      <td>3.0</td>\n",
       "      <td>g</td>\n",
       "    </tr>\n",
       "    <tr>\n",
       "      <th>13</th>\n",
       "      <td>53</td>\n",
       "      <td>23</td>\n",
       "      <td>27.892651</td>\n",
       "      <td>24.207437</td>\n",
       "      <td>53.037722</td>\n",
       "      <td>2.0</td>\n",
       "      <td>b</td>\n",
       "    </tr>\n",
       "    <tr>\n",
       "      <th>14</th>\n",
       "      <td>55</td>\n",
       "      <td>14</td>\n",
       "      <td>29.068884</td>\n",
       "      <td>30.870698</td>\n",
       "      <td>62.000000</td>\n",
       "      <td>1.0</td>\n",
       "      <td>r</td>\n",
       "    </tr>\n",
       "    <tr>\n",
       "      <th>15</th>\n",
       "      <td>61</td>\n",
       "      <td>8</td>\n",
       "      <td>35.902646</td>\n",
       "      <td>34.713110</td>\n",
       "      <td>68.264193</td>\n",
       "      <td>2.0</td>\n",
       "      <td>b</td>\n",
       "    </tr>\n",
       "    <tr>\n",
       "      <th>16</th>\n",
       "      <td>64</td>\n",
       "      <td>19</td>\n",
       "      <td>38.118237</td>\n",
       "      <td>23.345235</td>\n",
       "      <td>57.706152</td>\n",
       "      <td>2.0</td>\n",
       "      <td>b</td>\n",
       "    </tr>\n",
       "    <tr>\n",
       "      <th>17</th>\n",
       "      <td>69</td>\n",
       "      <td>7</td>\n",
       "      <td>43.931765</td>\n",
       "      <td>35.014283</td>\n",
       "      <td>70.405966</td>\n",
       "      <td>2.0</td>\n",
       "      <td>b</td>\n",
       "    </tr>\n",
       "    <tr>\n",
       "      <th>18</th>\n",
       "      <td>72</td>\n",
       "      <td>24</td>\n",
       "      <td>46.690470</td>\n",
       "      <td>18.439089</td>\n",
       "      <td>54.708317</td>\n",
       "      <td>2.0</td>\n",
       "      <td>b</td>\n",
       "    </tr>\n",
       "  </tbody>\n",
       "</table>\n",
       "</div>"
      ],
      "text/plain": [
       "     x   y  distance from 1  distance from 2  distance from 3  closest color\n",
       "0   12  39        26.925824        56.080300        56.727418      1.0     r\n",
       "1   20  36        20.880613        48.373546        53.150729      1.0     r\n",
       "2   28  30        14.142136        41.761226        53.338541      1.0     r\n",
       "3   18  52        36.878178        50.990195        44.102154      1.0     r\n",
       "4   29  54        38.118237        40.804412        34.058773      3.0     g\n",
       "5   33  46        30.805844        35.227830        37.202150      1.0     r\n",
       "6   24  55        39.051248        45.880279        37.443290      3.0     g\n",
       "7   45  59        47.010637        28.600699        19.723083      3.0     g\n",
       "8   45  63        50.695167        31.144823        16.401219      3.0     g\n",
       "9   52  70        59.933296        32.249031         6.708204      3.0     g\n",
       "10  51  66        55.901699        29.410882        10.770330      3.0     g\n",
       "11  52  63        53.712196        26.400758        13.341664      3.0     g\n",
       "12  55  58        51.039201        20.615528        18.000000      3.0     g\n",
       "13  53  23        27.892651        24.207437        53.037722      2.0     b\n",
       "14  55  14        29.068884        30.870698        62.000000      1.0     r\n",
       "15  61   8        35.902646        34.713110        68.264193      2.0     b\n",
       "16  64  19        38.118237        23.345235        57.706152      2.0     b\n",
       "17  69   7        43.931765        35.014283        70.405966      2.0     b\n",
       "18  72  24        46.690470        18.439089        54.708317      2.0     b"
      ]
     },
     "execution_count": 65,
     "metadata": {},
     "output_type": "execute_result"
    }
   ],
   "source": [
    "def assignment(df):\n",
    "    for i in range(1,k + 1):\n",
    "        df[\"distance from {}\".format(i)] = np.sqrt((df['x'] - centroid[i][0]) ** 2 + (df['y'] - centroid[i][1]) ** 2)\n",
    "    \n",
    "    for i, row in df.iterrows():\n",
    "        miv = df.at[i, \"distance from 1\"]\n",
    "        mid = 1\n",
    "        #print(\"%d %d \", (miv, mid))\n",
    "        for j in range(2, k + 1):\n",
    "            if df.at[i, \"distance from {}\".format(j)] < miv:\n",
    "                miv = df.at[i, \"distance from {}\".format(j)]\n",
    "                mid = j\n",
    "        #print(mid)\n",
    "        df.at[i, \"closest\"] = int(mid)\n",
    "        df.at[i, \"color\"] = cmap[mid]\n",
    "    return df\n",
    "df = assignment(df)\n",
    "df"
   ]
  },
  {
   "cell_type": "code",
   "execution_count": 66,
   "metadata": {},
   "outputs": [
    {
     "data": {
      "image/png": "[encoded data removed]",
      "text/plain": [
       "<matplotlib.figure.Figure at 0x7f21cce51208>"
      ]
     },
     "metadata": {
      "needs_background": "light"
     },
     "output_type": "display_data"
    }
   ],
   "source": [
    "plt.scatter(df['x'], df['y'], color = df[\"color\"], alpha = 0.4)\n",
    "for i in range(1, k + 1):\n",
    "    plt.scatter(centroid[i][0], centroid[i][1], color = cmap[i])"
   ]
  },
  {
   "cell_type": "code",
   "execution_count": 67,
   "metadata": {},
   "outputs": [
    {
     "data": {
      "image/png": "[encoded data removed]",
      "text/plain": [
       "<matplotlib.figure.Figure at 0x7f21ccdce470>"
      ]
     },
     "metadata": {
      "needs_background": "light"
     },
     "output_type": "display_data"
    }
   ],
   "source": [
    "def update(centroid):\n",
    "    for i in range(1, k + 1):\n",
    "        centroid[i][0] = np.mean(df[df[\"closest\"] == i][\"x\"])\n",
    "        centroid[i][1] = np.mean(df[df[\"closest\"] == i][\"y\"])\n",
    "    return centroid\n",
    "centroid = update(centroid)\n",
    "\n",
    "plt.scatter(df['x'], df['y'], color = df[\"color\"], alpha = 0.4)\n",
    "for i in range(1, k + 1):\n",
    "    plt.scatter(centroid[i][0], centroid[i][1], color = cmap[i])\n",
    "        "
   ]
  },
  {
   "cell_type": "code",
   "execution_count": 71,
   "metadata": {},
   "outputs": [
    {
     "data": {
      "image/png": "[encoded data removed]",
      "text/plain": [
       "<matplotlib.figure.Figure at 0x7f21ccd992e8>"
      ]
     },
     "metadata": {
      "needs_background": "light"
     },
     "output_type": "display_data"
    }
   ],
   "source": [
    "import copy\n",
    "while True:\n",
    "    old_centroid = copy.deepcopy(centroid)\n",
    "    centroid = update(centroid)\n",
    "    df = assignment(df)\n",
    "    if old_centroid != centroid:\n",
    "        break\n",
    "\n",
    "plt.scatter(df['x'], df['y'], color = df[\"color\"], alpha = 0.5)\n",
    "\n",
    "for i in range (1, k + 1):\n",
    "    plt.scatter(centroid[i][0], centroid[i][1], color = cmap[i])"
   ]
  },
  {
   "cell_type": "code",
   "execution_count": null,
   "metadata": {
    "collapsed": true
   },
   "outputs": [],
   "source": []
  }
 ],
 "metadata": {
  "kernelspec": {
   "display_name": "Python 3",
   "language": "python",
   "name": "python3"
  },
  "language_info": {
   "codemirror_mode": {
    "name": "ipython",
    "version": 3
   },
   "file_extension": ".py",
   "mimetype": "text/x-python",
   "name": "python",
   "nbconvert_exporter": "python",
   "pygments_lexer": "ipython3",
   "version": "3.6.3"
  }
 },
 "nbformat": 4,
 "nbformat_minor": 2
}
