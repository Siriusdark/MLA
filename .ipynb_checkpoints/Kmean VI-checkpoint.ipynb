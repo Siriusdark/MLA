{
 "cells": [
  {
   "cell_type": "code",
   "execution_count": 1,
   "metadata": {
    "collapsed": true
   },
   "outputs": [],
   "source": [
    "import pandas as pd\n",
    "import numpy as np\n",
    "import matplotlib.pyplot as plt"
   ]
  },
  {
   "cell_type": "code",
   "execution_count": 2,
   "metadata": {
    "collapsed": true
   },
   "outputs": [],
   "source": [
    "df = pd.DataFrame({\n",
    "'x': [12, 20, 28, 18, 29, 33, 24, 45, 45, 52, 51, 52, 55, 53, 55, 61, 64, 69, 72],\n",
    "'y': [39, 36, 30, 52, 54, 46, 55, 59, 63, 70, 66, 63, 58, 23, 14, 8, 19, 7, 24]\n",
    "})\n"
   ]
  },
  {
   "cell_type": "code",
   "execution_count": 3,
   "metadata": {
    "collapsed": true
   },
   "outputs": [],
   "source": [
    "np.random.seed(200)\n",
    "k = 3\n"
   ]
  },
  {
   "cell_type": "code",
   "execution_count": 4,
   "metadata": {},
   "outputs": [
    {
     "name": "stdout",
     "output_type": "stream",
     "text": [
      "('Centroid=', {1: [26, 16], 2: [68, 42], 3: [55, 76]})\n"
     ]
    }
   ],
   "source": [
    "centroids = {\n",
    "i+1:[np.random.randint(0, 80), np.random.randint(0, 80)]\n",
    "for i in range(k)\n",
    "}\n",
    "print(\"Centroid=\",centroids)\n"
   ]
  },
  {
   "cell_type": "code",
   "execution_count": 5,
   "metadata": {},
   "outputs": [
    {
     "data": {
      "image/png": "[encoded data removed]",
      "text/plain": [
       "<Figure size 432x288 with 1 Axes>"
      ]
     },
     "metadata": {},
     "output_type": "display_data"
    }
   ],
   "source": [
    "plt.scatter(df['x'], df['y'], color='BLACK')\n",
    "colmap = {1: 'r', 2: 'g', 3: 'b'}"
   ]
  },
  {
   "cell_type": "code",
   "execution_count": 9,
   "metadata": {},
   "outputs": [
    {
     "data": {
      "image/png": "[encoded data removed]",
      "text/plain": [
       "<Figure size 432x288 with 1 Axes>"
      ]
     },
     "metadata": {},
     "output_type": "display_data"
    }
   ],
   "source": [
    "for i in centroids.keys(): #represent color centroid ..\n",
    "    plt.scatter(*centroids[i], color=colmap[i])\n",
    "    # .keys() returns a view object that displays a list of all the keys.\n",
    "plt.xlim(0, 80)\n",
    "plt.ylim(0, 80)\n",
    "plt.show()"
   ]
  },
  {
   "cell_type": "code",
   "execution_count": 19,
   "metadata": {},
   "outputs": [
    {
     "name": "stdout",
     "output_type": "stream",
     "text": [
      "     x   y  distance_from_1  distance_from_2  distance_from_3  closest color\n",
      "0   12  39        26.925824        56.080300        56.727418        1     r\n",
      "1   20  36        20.880613        48.373546        53.150729        1     r\n",
      "2   28  30        14.142136        41.761226        53.338541        1     r\n",
      "3   18  52        36.878178        50.990195        44.102154        1     r\n",
      "4   29  54        38.118237        40.804412        34.058773        3     b\n",
      "5   33  46        30.805844        35.227830        37.202150        1     r\n",
      "6   24  55        39.051248        45.880279        37.443290        3     b\n",
      "7   45  59        47.010637        28.600699        19.723083        3     b\n",
      "8   45  63        50.695167        31.144823        16.401219        3     b\n",
      "9   52  70        59.933296        32.249031         6.708204        3     b\n",
      "10  51  66        55.901699        29.410882        10.770330        3     b\n",
      "11  52  63        53.712196        26.400758        13.341664        3     b\n",
      "12  55  58        51.039201        20.615528        18.000000        3     b\n",
      "13  53  23        27.892651        24.207437        53.037722        2     g\n",
      "14  55  14        29.068884        30.870698        62.000000        1     r\n",
      "15  61   8        35.902646        34.713110        68.264193        2     g\n",
      "16  64  19        38.118237        23.345235        57.706152        2     g\n",
      "17  69   7        43.931765        35.014283        70.405966        2     g\n",
      "18  72  24        46.690470        18.439089        54.708317        2     g\n"
     ]
    }
   ],
   "source": [
    "def assignment(df, centroids):\n",
    "    for i in centroids.keys():\n",
    "        df['distance_from_{}'.format(i)] =( np.sqrt( (df['x'] - centroids[i][0]) ** 2 +(df['y'] - centroids[i][1]) ** 2 ))\n",
    "\n",
    "    centroid_distance_cols = ['distance_from_{}'.format(i)for i in centroids.keys()]\n",
    "    df['closest'] = df.loc[:, centroid_distance_cols].idxmin(axis=1)\n",
    "    df['closest'] = df['closest'].map(lambda x: int(x.lstrip('distance_from_')))\n",
    "    df['color'] = df['closest'].map(lambda x: colmap[x])\n",
    "    return df\n",
    "df = assignment(df, centroids)\n",
    "print(df)"
   ]
  },
  {
   "cell_type": "code",
   "execution_count": 21,
   "metadata": {},
   "outputs": [
    {
     "data": {
      "image/png": "[encoded data removed]",
      "text/plain": [
       "<Figure size 432x288 with 1 Axes>"
      ]
     },
     "metadata": {},
     "output_type": "display_data"
    }
   ],
   "source": [
    "plt.scatter(df['x'], df['y'], color=df['color'], alpha=0.5, edgecolor='k')\n",
    "for i in centroids.keys():\n",
    "    plt.scatter(*centroids[i], color=colmap[i])\n",
    "plt.xlim(0, 80)\n",
    "plt.ylim(0, 80)\n",
    "plt.show()"
   ]
  },
  {
   "cell_type": "code",
   "execution_count": 22,
   "metadata": {},
   "outputs": [
    {
     "name": "stdout",
     "output_type": "stream",
     "text": [
      "('Updtaed centroids ', {1: [27.666666666666668, 36.166666666666664], 2: [63.8, 16.2], 3: [44.125, 61.0]})\n"
     ]
    }
   ],
   "source": [
    "import copy\n",
    "old_centroids = copy.deepcopy(centroids)\n",
    "def update(k):\n",
    "    for i in centroids.keys():\n",
    "        centroids[i][0] = np.mean(df[df['closest'] == i]['x'])\n",
    "        centroids[i][1] = np.mean(df[df['closest'] == i]['y'])\n",
    "    return k\n",
    "centroids = update(centroids)\n",
    "print(\"Updtaed centroids \", centroids)"
   ]
  },
  {
   "cell_type": "code",
   "execution_count": 25,
   "metadata": {},
   "outputs": [
    {
     "data": {
      "image/png": "[encoded data removed]",
      "text/plain": [
       "<Figure size 432x288 with 1 Axes>"
      ]
     },
     "metadata": {},
     "output_type": "display_data"
    }
   ],
   "source": [
    "plt.scatter(df['x'], df['y'], color=df['color'], alpha=0.3) # alpha value for intensity\n",
    "for i in centroids.keys():\n",
    "    plt.scatter(*centroids[i], color=colmap[i])\n",
    "plt.xlim(0, 80)\n",
    "plt.ylim(0, 80)\n",
    "plt.show()"
   ]
  },
  {
   "cell_type": "code",
   "execution_count": 27,
   "metadata": {},
   "outputs": [
    {
     "data": {
      "image/png": "[encoded data removed]",
      "text/plain": [
       "<Figure size 432x288 with 1 Axes>"
      ]
     },
     "metadata": {},
     "output_type": "display_data"
    }
   ],
   "source": [
    "while True:\n",
    "    closest_centroids = df['closest'].copy(deep=True)\n",
    "    centroids = update(centroids)\n",
    "    df = assignment(df, centroids)\n",
    "    if closest_centroids.equals(df['closest']):\n",
    "        break\n",
    "plt.scatter(df['x'], df['y'], color=df['color'], alpha=0.5)\n",
    "for i in centroids.keys():\n",
    "    plt.scatter(*centroids[i], color=colmap[i])\n",
    "plt.xlim(0, 80)\n",
    "plt.ylim(0, 80)\n",
    "plt.show()"
   ]
  },
  {
   "cell_type": "code",
   "execution_count": null,
   "metadata": {
    "collapsed": true
   },
   "outputs": [],
   "source": []
  }
 ],
 "metadata": {
  "kernelspec": {
   "display_name": "Python 2",
   "language": "python",
   "name": "python2"
  },
  "language_info": {
   "codemirror_mode": {
    "name": "ipython",
    "version": 3
   },
   "file_extension": ".py",
   "mimetype": "text/x-python",
   "name": "python",
   "nbconvert_exporter": "python",
   "pygments_lexer": "ipython3",
   "version": "3.6.3"
  }
 },
 "nbformat": 4,
 "nbformat_minor": 2
}
