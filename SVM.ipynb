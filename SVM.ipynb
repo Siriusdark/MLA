{
 "cells": [
  {
   "cell_type": "code",
   "execution_count": 6,
   "metadata": {},
   "outputs": [
    {
     "name": "stdout",
     "output_type": "stream",
     "text": [
      "[0.1380943  0.24462418]\n"
     ]
    }
   ],
   "source": [
    "import numpy as np\n",
    "import matplotlib.pyplot as plt\n",
    "from sklearn import svm\n",
    "#Hard code simple data set\n",
    "#x = [1, 5, 1.5, 8, 1, 9]\n",
    "#y = [2, 8, 1.8, 8, 0.6, 11]\n",
    "#plt.scatter(x,y)\n",
    "#plt.show()\n",
    "X = np.array([[1,2],[5,8],[1.5,1.8],[8,8],[1,0.6],[9,11]])\n",
    "y = [0,1,0,1,0,1]\n",
    "clf = svm.SVC(kernel='linear', C = 1.0)\n",
    "clf.fit(X,y)\n",
    "w = clf.coef_[0]\n",
    "print(w)"
   ]
  },
  {
   "cell_type": "code",
   "execution_count": 14,
   "metadata": {},
   "outputs": [
    {
     "data": {
      "image/png": "[encoded data removed]",
      "text/plain": [
       "<matplotlib.figure.Figure at 0x7f156a174fd0>"
      ]
     },
     "metadata": {
      "needs_background": "light"
     },
     "output_type": "display_data"
    }
   ],
   "source": [
    "a = -w[0] / w[1]\n",
    "xx = np.linspace(0,12)\n",
    "yy = a * xx - clf.intercept_[0] / w[1]\n",
    "plt.plot(xx, yy, 'k-', label=\"Non weighted div\")\n",
    "plt.scatter(X[:, 0], X[:, 1], c = y)\n",
    "plt.legend()\n",
    "plt.show()"
   ]
  },
  {
   "cell_type": "code",
   "execution_count": 8,
   "metadata": {},
   "outputs": [
    {
     "name": "stdout",
     "output_type": "stream",
     "text": [
      "Prediction of target for 0.58,0.76 values:\n",
      "[0]\n",
      "Prediction of target for given value\n",
      "[1]\n"
     ]
    }
   ],
   "source": [
    "print(\"Prediction of target for 0.58,0.76 values:\")\n",
    "t= clf.predict([[0.58,0.76]])\n",
    "print(t)\n",
    "print(\"Prediction of target for given value\")\n",
    "t= clf.predict([[10.58,10.76]])\n",
    "print(t)"
   ]
  },
  {
   "cell_type": "code",
   "execution_count": null,
   "metadata": {
    "collapsed": true
   },
   "outputs": [],
   "source": []
  }
 ],
 "metadata": {
  "kernelspec": {
   "display_name": "Python 3",
   "language": "python",
   "name": "python3"
  },
  "language_info": {
   "codemirror_mode": {
    "name": "ipython",
    "version": 3
   },
   "file_extension": ".py",
   "mimetype": "text/x-python",
   "name": "python",
   "nbconvert_exporter": "python",
   "pygments_lexer": "ipython3",
   "version": "3.6.3"
  }
 },
 "nbformat": 4,
 "nbformat_minor": 2
}
